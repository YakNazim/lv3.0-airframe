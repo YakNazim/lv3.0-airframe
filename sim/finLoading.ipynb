{
 "cells": [
  {
   "cell_type": "code",
   "execution_count": null,
   "metadata": {
    "collapsed": false
   },
   "outputs": [],
   "source": [
    "R.Version()[c('version.string','nickname')] # R 3.2.2 \"Fire Safety\""
   ]
  },
  {
   "cell_type": "markdown",
   "metadata": {},
   "source": [
    "# Fin Loading Analysis\n",
    "\n",
    "This is an analysis of the aerodynamic loading on the LV3 fins. This is based on the techniques described in [**Tactical Missile Design** by Eugene L. Fleeman (AIAA 2001)][Fleeman2001] ([pdf][Fleeman2001PDF])\n",
    "\n",
    "Technical drawings of the fins [can be found here][finDrawings].\n",
    "\n",
    "\n",
    "[Fleeman2001]: https://books.google.com/books?id=iSsfAQAAIAAJ\n",
    "[Fleeman2001PDF]: https://ia600704.us.archive.org/27/items/TacticalMissileDesignEugeneLFleeman/Tactical%20Missile%20Design%20Eugene%20L%20Fleeman.pdf\n",
    "[finDrawings]: ../cad/finCan/LongFinFiles/LongFins_ALedge.PDF"
   ]
  },
  {
   "cell_type": "markdown",
   "metadata": {},
   "source": [
    "## Nomenclature\n",
    "\n",
    "symbol | variable name | meaning\n",
    "-------|---------------|--------\n",
    "$\\alpha$ | `alpha` | angle of attack\n",
    "$\\alpha'$ | `alpha_local` | local angle of attack\n",
    " | `AR` | aspect ratio\n",
    "$S_W$ | `area_planform` | exposed area of one fin\n",
    "$S_Ref$ | `area_wing` | area of two fins, if they were extended to the center line\n",
    " | `chord_root` | root chord (if a fin were extended to the center line)\n",
    " | `chord_rootExp` | exposed root chord (where the fin meets the module)\n",
    " | `chord_tip` | tip chord\n",
    " | `OD` | outer diameter of a module\n",
    " | `span_semiExp` | exposed semi-span (distance from root to tip)\n",
    " | `span_wing` | wing span (distance from tip to tip, if the rocket only had two fins)\n",
    " | `sweep_ang00` | zero chord sweep (sweep of the leading edge)\n",
    " | `sweep_len00` | zero chord sweep length (distance that the tip lags the root)"
   ]
  },
  {
   "cell_type": "code",
   "execution_count": 12,
   "metadata": {
    "collapsed": false
   },
   "outputs": [],
   "source": [
    "# Actual LV3 parameters\n",
    "parms.LV3 <- expression({\n",
    "    # Double check these against the technical drawing!\n",
    "    chord_rootExp <- 18 # inches, exposed root chord\n",
    "    chord_tip <- 5 # inches, tip chord\n",
    "    span_semiExp <- 6.42 # inches, exposed semi-span\n",
    "    sweep_len00 <- 9 # inches, sweep length at 0 percent chord\n",
    "    sweep_ang00 <- atan(sweep_len00/span_semiExp) # radians, sweep angle at 0 percent chord\n",
    "    # sweep_ang25 <- \n",
    "    area_planform <- span_semiExp*(chord_rootExp+chord_tip)/2\n",
    "    OD <- 6.6 # inches, \"fuselage\" outer diameter\n",
    "    # MAC <- # inches, mean aerodynamic chord\n",
    "\n",
    "    # The following parameters are not physical measurements on LV3. (no coplanar fins)\n",
    "    # However, they are used extensively in the engineering equations.\n",
    "    span_wing <- 2*span_semiExp + OD # inches, wing span. \n",
    "    chord_root <- chord_rootExp + (OD/2)*(chord_rootExp-chord_tip)/span_semiExp # inches, root chord\n",
    "    area_wing <- span_wing*(chord_root+chord_tip)/2 # inches^2, wing area\n",
    "    AR <- span_wing^2/area_wing # dimensionless\n",
    "})\n",
    "\n",
    "# Fleeman's example case:\n",
    "parms.baseline <- expression({\n",
    "    \n",
    "})"
   ]
  },
  {
   "cell_type": "code",
   "execution_count": 14,
   "metadata": {
    "collapsed": false
   },
   "outputs": [],
   "source": [
    "eval(parms.LV3)\n",
    "rm(parms.LV3) # for tidiness\n",
    "rm(parms.baseline)"
   ]
  },
  {
   "cell_type": "code",
   "execution_count": 15,
   "metadata": {
    "collapsed": false,
    "scrolled": true
   },
   "outputs": [
    {
     "data": {
      "text/html": [
       "<dl>\n",
       "\t<dt>$AR</dt>\n",
       "\t\t<dd>1.30987405541562</dd>\n",
       "\t<dt>$area_planform</dt>\n",
       "\t\t<dd>73.83</dd>\n",
       "\t<dt>$area_wing</dt>\n",
       "\t\t<dd>288.511401869159</dd>\n",
       "\t<dt>$chord_root</dt>\n",
       "\t\t<dd>24.6822429906542</dd>\n",
       "\t<dt>$chord_rootExp</dt>\n",
       "\t\t<dd>18</dd>\n",
       "\t<dt>$chord_tip</dt>\n",
       "\t\t<dd>5</dd>\n",
       "\t<dt>$coeff_wingNorm</dt>\n",
       "\t\t<dd><pre class=language-r><code>function (alpha_local) \n",
       "{\n",
       "<span style=white-space:pre-wrap>    ((pi * AR/2 * abs(sin(alpha_local) * cos(alpha_local)) + </span>\n",
       "<span style=white-space:pre-wrap>        2 * sin(alpha_local)^2) * (area_planform/area_wing))</span>\n",
       "}</code></pre></dd>\n",
       "\t<dt>$OD</dt>\n",
       "\t\t<dd>6.6</dd>\n",
       "\t<dt>$span_semiExp</dt>\n",
       "\t\t<dd>6.42</dd>\n",
       "\t<dt>$span_wing</dt>\n",
       "\t\t<dd>19.44</dd>\n",
       "\t<dt>$sweep_ang00</dt>\n",
       "\t\t<dd>0.951177755554861</dd>\n",
       "\t<dt>$sweep_len00</dt>\n",
       "\t\t<dd>9</dd>\n",
       "</dl>\n"
      ],
      "text/latex": [
       "\\begin{description}\n",
       "\\item[\\$AR] 1.30987405541562\n",
       "\\item[\\$area\\_planform] 73.83\n",
       "\\item[\\$area\\_wing] 288.511401869159\n",
       "\\item[\\$chord\\_root] 24.6822429906542\n",
       "\\item[\\$chord\\_rootExp] 18\n",
       "\\item[\\$chord\\_tip] 5\n",
       "\\item[\\$coeff\\_wingNorm] \\begin{minted}{r}\n",
       "function (alpha\\_local) \n",
       "\\{\n",
       "    ((pi * AR/2 * abs(sin(alpha\\_local) * cos(alpha\\_local)) + \n",
       "        2 * sin(alpha\\_local)\\textasciicircum{}2) * (area\\_planform/area\\_wing))\n",
       "\\}\n",
       "\\end{minted}\n",
       "\\item[\\$OD] 6.6\n",
       "\\item[\\$span\\_semiExp] 6.42\n",
       "\\item[\\$span\\_wing] 19.44\n",
       "\\item[\\$sweep\\_ang00] 0.951177755554861\n",
       "\\item[\\$sweep\\_len00] 9\n",
       "\\end{description}\n"
      ],
      "text/markdown": [
       "$AR\n",
       ":   1.30987405541562\n",
       "$area_planform\n",
       ":   73.83\n",
       "$area_wing\n",
       ":   288.511401869159\n",
       "$chord_root\n",
       ":   24.6822429906542\n",
       "$chord_rootExp\n",
       ":   18\n",
       "$chord_tip\n",
       ":   5\n",
       "$coeff_wingNorm\n",
       ":   ```r\n",
       "function (alpha_local) \n",
       "{\n",
       "    ((pi * AR/2 * abs(sin(alpha_local) * cos(alpha_local)) + \n",
       "        2 * sin(alpha_local)^2) * (area_planform/area_wing))\n",
       "}\n",
       "```\n",
       "$OD\n",
       ":   6.6\n",
       "$span_semiExp\n",
       ":   6.42\n",
       "$span_wing\n",
       ":   19.44\n",
       "$sweep_ang00\n",
       ":   0.951177755554861\n",
       "$sweep_len00\n",
       ":   9\n",
       "\n",
       "\n"
      ],
      "text/plain": [
       "$AR\n",
       "[1] 1.309874\n",
       "\n",
       "$area_planform\n",
       "[1] 73.83\n",
       "\n",
       "$area_wing\n",
       "[1] 288.5114\n",
       "\n",
       "$chord_root\n",
       "[1] 24.68224\n",
       "\n",
       "$chord_rootExp\n",
       "[1] 18\n",
       "\n",
       "$chord_tip\n",
       "[1] 5\n",
       "\n",
       "$coeff_wingNorm\n",
       "function (alpha_local) \n",
       "{\n",
       "    ((pi * AR/2 * abs(sin(alpha_local) * cos(alpha_local)) + \n",
       "        2 * sin(alpha_local)^2) * (area_planform/area_wing))\n",
       "}\n",
       "\n",
       "$OD\n",
       "[1] 6.6\n",
       "\n",
       "$span_semiExp\n",
       "[1] 6.42\n",
       "\n",
       "$span_wing\n",
       "[1] 19.44\n",
       "\n",
       "$sweep_ang00\n",
       "[1] 0.9511778\n",
       "\n",
       "$sweep_len00\n",
       "[1] 9\n"
      ]
     },
     "metadata": {},
     "output_type": "display_data"
    }
   ],
   "source": [
    "sapply( # confirm values of all variables\n",
    "        ls(), \n",
    "        function(x) eval(as.symbol(x))\n",
    "        )"
   ]
  },
  {
   "cell_type": "markdown",
   "metadata": {},
   "source": [
    "On pages 30 and 31, the following value is compared to $M^2$:"
   ]
  },
  {
   "cell_type": "code",
   "execution_count": null,
   "metadata": {
    "collapsed": false
   },
   "outputs": [],
   "source": [
    "1+(8/(pi*AR))^2 # 4.8"
   ]
  },
  {
   "cell_type": "markdown",
   "metadata": {},
   "source": [
    "So, for a maximum speed of $M=2$, we will always have $M^2<1+(8/(\\pi*AR))^2$. Thus, our formula  for fin normal force coefficient is   \n",
    "$ |(C_N)_{Wing}| = \\left((\\pi*AR/2)|\\sin\\alpha'\\cos\\alpha'|+2\\sin^2\\alpha'\\right)(S_W/S_{Ref})$"
   ]
  },
  {
   "cell_type": "code",
   "execution_count": 31,
   "metadata": {
    "collapsed": false
   },
   "outputs": [
    {
     "data": {
      "text/html": [
       "0.479495704213056"
      ],
      "text/latex": [
       "0.479495704213056"
      ],
      "text/markdown": [
       "0.479495704213056"
      ],
      "text/plain": [
       "[1] 0.4794957"
      ]
     },
     "metadata": {},
     "output_type": "display_data"
    }
   ],
   "source": [
    "AR=2.82\n",
    "alpha_local=22*2*pi/360\n",
    "\n",
    "coeff_wingNorm <- function(alpha_local, ...) \n",
    "    {(\n",
    "        (\n",
    "            pi*AR/2 * abs( sin(alpha_local)*cos(alpha_local) )\n",
    "            +2*sin(alpha_local)^2\n",
    "        )\n",
    "        *(area_planform/area_wing)\n",
    "    )}\n",
    "coeff_wingNorm(alpha_local)"
   ]
  }
 ],
 "metadata": {
  "kernelspec": {
   "display_name": "R",
   "language": "R",
   "name": "ir"
  },
  "language_info": {
   "codemirror_mode": "r",
   "file_extension": ".r",
   "mimetype": "text/x-r-source",
   "name": "R",
   "pygments_lexer": "r",
   "version": "3.2.2"
  }
 },
 "nbformat": 4,
 "nbformat_minor": 0
}
