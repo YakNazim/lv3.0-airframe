{
 "cells": [
  {
   "cell_type": "markdown",
   "metadata": {},
   "source": [
    "# Fin Loading Analysis\n",
    "\n",
    "This notebook is meant to estimate the loading we may expect on the LV3 fins. Currently, it assumes a constant lifting pressure on the fins. This is used to find the ratio of shear to bending at the root of the fin. With that information, we can find the length at which a point load should be applied in order to simulate the real loading at the root of the fin. This is needed to test the strength of whatever design is used to attach the fins to LV3.\n",
    "\n",
    "I would have (still would) liked to find some more detailed information on the kinds of loading we can expect on the LV3 fins. (Need at least an estimate of average pressure to figure out our factor of safety.) [This random course worksheet from MIT][MITbending] seems to suggest that it's reasonable to assume a constant lifting pressure on wings, so I'm assuming a constant lifting pressure on the fins. However, I still don't know what kind of *magnitude* we can expect for that pressure. \n",
    "\n",
    "[MITbending]: https://ocw.mit.edu/courses/aeronautics-and-astronautics/16-01-unified-engineering-i-ii-iii-iv-fall-2005-spring-2006/systems-labs-06/spl10.pdf"
   ]
  },
  {
   "cell_type": "markdown",
   "metadata": {},
   "source": [
    "## Nomenclature\n",
    "\n",
    "variable | math symbol | name/description | units\n",
    "---|---|---|---\n",
    "y  | $y$ | span-wise coordinate (distance from the root) | inches\n",
    "q  | $q$ | beam loading (shear force per length) | $lb_f/in$\n",
    "c  | $c$ | chord (distance from leading to trailing edge at some $y$) | inches\n",
    "F  | $F$ | shear force | pounds\n",
    "M  | $M$ | bending moment | $lb_f in$\n",
    "cr  | $C_r$ | exposed root chord | inches\n",
    "ct  | $C_t$ | tip chord | inches\n",
    "bst  | $b^*$ | exposed span (a single fin is $b^*/2$ tall) | inches\n",
    "kq  | $k_q$ | $q$ fudge factor (average lifting pressure) | $lb_f/in^2$\n",
    "kF  | $k_F$ | $F$ integration constant (root shear) | $lb_f$\n",
    "kM | $k_M$ | $M$ integration constant (root bending) | $lb_f in$"
   ]
  },
  {
   "cell_type": "markdown",
   "metadata": {},
   "source": [
    "## Governing equations\n",
    "* $q=k_q c$ constant lifting pressure  \n",
    "* $F= \\int_0^{b^*/2}q \\, dy$  \n",
    "* BC1: $F=0$ when $y=b^*/2$ (Euler bending)  \n",
    "* $M= \\int_0^{b^*/2}F \\, dy$  \n",
    "* BC2: $M=0$ when $y=b^*/2$ (Euler bending)"
   ]
  },
  {
   "cell_type": "markdown",
   "metadata": {},
   "source": [
    "## Calculation\n",
    "### setup environment and parameters"
   ]
  },
  {
   "cell_type": "code",
   "execution_count": 1,
   "metadata": {
    "collapsed": false
   },
   "outputs": [],
   "source": [
    "from sympy import *\n",
    "init_printing()\n",
    "%matplotlib inline\n",
    "y, q, c, F, M, cr, ct, bst, kq, kF, kM = symbols('y q c F M cr ct bst kq kF kM')\n",
    "c = cr + y*(cr+ct)/(bst/2) # define chord as a function of y\n",
    "q = kq*c # constant lifting pressure\n",
    "LV3parms = {cr: 18, ct: 5, kq: 1, bst: 6.42*2} # in, in, lbf/in^2, in; parameters for LV3 fins"
   ]
  },
  {
   "cell_type": "markdown",
   "metadata": {},
   "source": [
    "### find shear"
   ]
  },
  {
   "cell_type": "code",
   "execution_count": 2,
   "metadata": {
    "collapsed": false
   },
   "outputs": [
    {
     "data": {
      "image/png": "[encoded data removed]",
      "text/latex": [
       "$$\\frac{kq}{4 bst} \\left(bst \\left(- bst \\left(3 cr + ct\\right) + 4 cr y\\right) + 4 y^{2} \\left(cr + ct\\right)\\right)$$"
      ],
      "text/plain": [
       "   ⎛                                     2          ⎞\n",
       "kq⋅⎝bst⋅(-bst⋅(3⋅cr + ct) + 4⋅cr⋅y) + 4⋅y ⋅(cr + ct)⎠\n",
       "─────────────────────────────────────────────────────\n",
       "                        4⋅bst                        "
      ]
     },
     "execution_count": 2,
     "metadata": {},
     "output_type": "execute_result"
    }
   ],
   "source": [
    "F = integrate(q, y) +kF\n",
    "kF = solve(F.subs({y: bst/2}), kF)[0] # BC: F=0 when y=bst/2\n",
    "F = integrate(q, y) +kF # plug back into F\n",
    "simplify(F)"
   ]
  },
  {
   "cell_type": "code",
   "execution_count": 3,
   "metadata": {
    "collapsed": false
   },
   "outputs": [
    {
     "data": {
      "image/png": "[encoded data removed]",
      "text/plain": [
       "<matplotlib.figure.Figure at 0x7efea4b5e390>"
      ]
     },
     "metadata": {},
     "output_type": "display_data"
    },
    {
     "data": {
      "text/plain": [
       "<sympy.plotting.plot.Plot at 0x7efea4b5e550>"
      ]
     },
     "execution_count": 3,
     "metadata": {},
     "output_type": "execute_result"
    }
   ],
   "source": [
    "plot(F.subs(LV3parms), (y, 0, LV3parms[bst]/2))"
   ]
  },
  {
   "cell_type": "code",
   "execution_count": 4,
   "metadata": {
    "collapsed": false,
    "scrolled": true
   },
   "outputs": [
    {
     "data": {
      "image/png": "[encoded data removed]",
      "text/latex": [
       "$$-189.39$$"
      ],
      "text/plain": [
       "-189.39"
      ]
     },
     "execution_count": 4,
     "metadata": {},
     "output_type": "execute_result"
    }
   ],
   "source": [
    "root_shear = lambdify(y, F.subs(LV3parms))(0)\n",
    "root_shear"
   ]
  },
  {
   "cell_type": "markdown",
   "metadata": {},
   "source": [
    "### find bending"
   ]
  },
  {
   "cell_type": "code",
   "execution_count": 5,
   "metadata": {
    "collapsed": false
   },
   "outputs": [
    {
     "data": {
      "image/png": "[encoded data removed]",
      "text/latex": [
       "$$\\frac{kq}{24 bst} \\left(bst \\left(bst^{2} \\left(5 cr + 2 ct\\right) - 6 bst y \\left(3 cr + ct\\right) + 12 cr y^{2}\\right) + 8 y^{3} \\left(cr + ct\\right)\\right)$$"
      ],
      "text/plain": [
       "   ⎛    ⎛   2                                              2⎞      3          \n",
       "kq⋅⎝bst⋅⎝bst ⋅(5⋅cr + 2⋅ct) - 6⋅bst⋅y⋅(3⋅cr + ct) + 12⋅cr⋅y ⎠ + 8⋅y ⋅(cr + ct)\n",
       "──────────────────────────────────────────────────────────────────────────────\n",
       "                                     24⋅bst                                   \n",
       "\n",
       "⎞\n",
       "⎠\n",
       "─\n",
       " "
      ]
     },
     "execution_count": 5,
     "metadata": {},
     "output_type": "execute_result"
    }
   ],
   "source": [
    "M = integrate(F, y) +kM\n",
    "kM = solve(M.subs({y: bst/2}), kM)[0] # BC: M=0 when y=bst/2\n",
    "M = integrate(F, y) +kM # plug back into M\n",
    "simplify(M)"
   ]
  },
  {
   "cell_type": "code",
   "execution_count": 6,
   "metadata": {
    "collapsed": false
   },
   "outputs": [
    {
     "data": {
      "image/png": "[encoded data removed]",
      "text/plain": [
       "<matplotlib.figure.Figure at 0x7efe86d53e48>"
      ]
     },
     "metadata": {},
     "output_type": "display_data"
    },
    {
     "data": {
      "text/plain": [
       "<sympy.plotting.plot.Plot at 0x7efe86dc4c50>"
      ]
     },
     "execution_count": 6,
     "metadata": {},
     "output_type": "execute_result"
    }
   ],
   "source": [
    "plot(M.subs(LV3parms), (y, 0, LV3parms[bst]/2))"
   ]
  },
  {
   "cell_type": "code",
   "execution_count": 7,
   "metadata": {
    "collapsed": false
   },
   "outputs": [
    {
     "data": {
      "image/png": "[encoded data removed]",
      "text/latex": [
       "$$686.94$$"
      ],
      "text/plain": [
       "686.94"
      ]
     },
     "execution_count": 7,
     "metadata": {},
     "output_type": "execute_result"
    }
   ],
   "source": [
    "root_bending = lambdify(y, M.subs(LV3parms))(0)\n",
    "root_bending"
   ]
  },
  {
   "cell_type": "markdown",
   "metadata": {},
   "source": [
    "### find point load location\n",
    "\n",
    "When testing lateral the strength of the fins, we will apply a point load to an aluminum beam attached to a module. If we vary the location of that point load, we vary the ratio of shear and bending at the root of that beam. That ratio needs to match that of the real LV3 fins in order for the test to be meaningful. \n",
    "\n",
    "For a point load $F$ applied at span $y_*$:  \n",
    "$M=y_* F$.  \n",
    "So, we get the location of the point load by taking the ratio of the root bending and root shear:"
   ]
  },
  {
   "cell_type": "code",
   "execution_count": 8,
   "metadata": {
    "collapsed": false,
    "scrolled": true
   },
   "outputs": [
    {
     "data": {
      "image/png": "[encoded data removed]",
      "text/latex": [
       "$$-3.627118644067797$$"
      ],
      "text/plain": [
       "-3.627118644067797"
      ]
     },
     "execution_count": 8,
     "metadata": {},
     "output_type": "execute_result"
    }
   ],
   "source": [
    "root_bending/root_shear"
   ]
  },
  {
   "cell_type": "markdown",
   "metadata": {},
   "source": [
    "So, the point load should be applied 3+5/8 inches away from the root."
   ]
  }
 ],
 "metadata": {
  "kernelspec": {
   "display_name": "Python 3",
   "language": "python",
   "name": "python3"
  },
  "language_info": {
   "codemirror_mode": {
    "name": "ipython",
    "version": 3
   },
   "file_extension": ".py",
   "mimetype": "text/x-python",
   "name": "python",
   "nbconvert_exporter": "python",
   "pygments_lexer": "ipython3",
   "version": "3.4.3"
  }
 },
 "nbformat": 4,
 "nbformat_minor": 0
}
