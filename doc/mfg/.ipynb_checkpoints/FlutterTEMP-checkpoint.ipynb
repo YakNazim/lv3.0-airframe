{
 "cells": [
  {
   "cell_type": "markdown",
   "metadata": {},
   "source": [
    "### Flutter Calculations\n",
    "\n",
    "This document is a TEMPORARY repository of flutter calculations and other math relevant to determining the failure critera of the LV3 fin assembly.\n",
    "$$\n",
    "V_{f}=a \\sqrt{\\frac{G_{E}}{K_{1}*K_{2}*K_{3}}}\\\\\n",
    "K_{1}=\\frac{39.3(AR^3)}{(\\frac{t}{c})^3 (AR+2)}\\\\\n",
    "K_{2}=\\frac{\\lambda+1}{2}\\\\\n",
    "K_{3}=\\frac{p}{p_{o}}\\\\\n",
    "$$\n",
    "\n",
    "$V_{f}, $ Flutter Velocity (m/s)\n",
    "\n",
    "$a, $ Speed of Sound (m/s)\n",
    "\n",
    "$G_{E}, $ Effective Shear Modulus (Pa)\n",
    "\n",
    "$AR, $ Aspect Ratio\n",
    "\n",
    "$t, $ Fin Thickness (m)\n",
    "\n",
    "$c, $ Fin Chord (m)\n",
    "\n",
    "$\\lambda, $ Taper Ratio (Tip Chord to Root Chord)\n",
    "\n",
    "$p, $ Air Pressure (Pa)\n",
    "\n",
    "$p_{o}, $ Air Pressure, Sea Level (Pa)"
   ]
  },
  {
   "cell_type": "code",
   "execution_count": null,
   "metadata": {
    "collapsed": true
   },
   "outputs": [],
   "source": [
    "import math as m\n",
    "import numpy as np\n",
    "\n",
    "## Try ZAERO\n",
    "## Fin Geometry\n",
    "## Note: Shorten and Thicken:\n",
    "##       From t = 0.25 in. to 0.4 in.\n",
    "\n",
    "Cr = # Chord, root (m)\n",
    "Ct = # Chord, tip (m)\n",
    "W  = # Semispan (m)\n",
    "MAC = # Chord, mean aero (m)\n",
    "S = W*MAC # Fin area (m^2)\n",
    "AR = W/MAC # Aspect ratio\n",
    "La = Ct/Cr # Taper ratio\n",
    "t = 0.25 # Fin thickness (in.)\n",
    "\n",
    "## Atmospheric Parameters\n",
    "\n",
    "a = # Speed of sound (m/s)\n",
    "P = atmo(x) # Pressure at altitude x (Pa)\n",
    "Po = atmo(x)[0] # Sea level pressure (Pa)\n",
    "\n",
    "## Material Properties\n",
    "\n",
    "GE = 25.5 # Effective Shear Modulus\n",
    "\n",
    "## Flutter\n",
    "## Influences: Stiffness\n",
    "##             Mach\n",
    "##             Mass\n",
    "## Guidelines: 15% FS for velocity V/Vf\n",
    "##             32% FS for pressure Q/Qf\n",
    "\n",
    "X = (39.3*AR**3)/((AR+2)(t/c)**3)\n",
    "Y = (P/Po)*(La+1)/2\n",
    "Vf = a*sqrt(GE/(X*Y)) # Flutter velocity (m/s)\n",
    "#Qf = # Flutter dynamic pressure (Pa)"
   ]
  }
 ],
 "metadata": {
  "kernelspec": {
   "display_name": "Python 3",
   "language": "python",
   "name": "python3"
  },
  "language_info": {
   "codemirror_mode": {
    "name": "ipython",
    "version": 3
   },
   "file_extension": ".py",
   "mimetype": "text/x-python",
   "name": "python",
   "nbconvert_exporter": "python",
   "pygments_lexer": "ipython3",
   "version": "3.5.1"
  }
 },
 "nbformat": 4,
 "nbformat_minor": 0
}
