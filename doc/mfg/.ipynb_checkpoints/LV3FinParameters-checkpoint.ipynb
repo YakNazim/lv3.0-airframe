{
 "cells": [
  {
   "cell_type": "markdown",
   "metadata": {},
   "source": [
    "### LV3 Fin Design Parameters\n",
    "\n",
    "The drag and velocity data from OpenRocket for the Brothers, OR flight was imported into Solidworks. The worst case form drag loading of 1030 N on the entire rocket was recalculated to 130 N on the fins only. The maximum von Mises stresses experienced by the truss in the static and dynamic cases are shown:\n",
    "```\n",
    "Syield   = 275e6 # Yield stress (Pa)\n",
    "Stensile = 310e6 # Tensile strength (Pa)\n",
    "EAl      = 69e9  # Elastic modulus (Pa)\n",
    "v        = 0.33  # Poisson's ratio\n",
    "rhoAl    = 2700  # 6061-T6 Al. density (kg/m^3)\n",
    "SmStatic = 13e6  # Static max stress (Pa)\n",
    "SmDynami = 0.3e6 # Dynamic max stress (Pa)\n",
    "```\n",
    "The first four modes of vibration are shown below, representing the resonant frequencies of the 6061-T6 Aluminum fin truss:\n",
    "\n",
    "| Mode        | Freq (Hz) | Period (s) |\n",
    "|-------------|-----------|------------|\n",
    "| 1st Bending | 140.25    | 7.1e-3     |\n",
    "| 1st Torsion | 311.71    | 3.2e-3     |\n",
    "| 2nd Bending | 613.05    | 1.6e-3     |\n",
    "| 2nd Torsion | 995.02    | 1.0e-3     |\n",
    "\n",
    "### Truss Parameters\n",
    "\n",
    "The following data represents the various relevant truss parameters used in the Solidworks model:\n",
    "```\n",
    "Tt = 0.25   # Truss thickness (in.) \n",
    "Fw = 0.25   # Fin width (in.)\n",
    "fr = 0.25   # Fillet radius, universal (in.)\n",
    "Mt = 0.10   # Mounting rail thickness (in.)\n",
    "m  = 0.2794 # Fin mass, new (kg)\n",
    "m  = 0.2631 # Fin mass, short (kg)\n",
    "```"
   ]
  },
  {
   "cell_type": "code",
   "execution_count": null,
   "metadata": {
    "collapsed": true
   },
   "outputs": [],
   "source": []
  }
 ],
 "metadata": {
  "kernelspec": {
   "display_name": "Python 2",
   "language": "python",
   "name": "python2"
  },
  "language_info": {
   "codemirror_mode": {
    "name": "ipython",
    "version": 2
   },
   "file_extension": ".py",
   "mimetype": "text/x-python",
   "name": "python",
   "nbconvert_exporter": "python",
   "pygments_lexer": "ipython2",
   "version": "2.7.11"
  }
 },
 "nbformat": 4,
 "nbformat_minor": 0
}
