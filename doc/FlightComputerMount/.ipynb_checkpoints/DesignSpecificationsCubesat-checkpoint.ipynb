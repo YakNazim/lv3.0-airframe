{
 "cells": [
  {
   "cell_type": "markdown",
   "metadata": {},
   "source": [
    "## Cubesat Frame Mount, Design Specifications\n",
    "This document serves to collect all of the electrical and mechanical design constraints in one place. The constaints are broken up into mechanical, electrical, and Misc. requirements. Mechanical refers to any structural restrictions as well as the physical forces that the assembly will endure. The electrical constraints are any EM restrictions, wiring location requirements, and any other requirements that do not directly translate to a mechanical requirement. Misc. requirements are meant for anything that does not fall into either category, since there might be something I am forgetting.\n",
    "\n",
    "Ideally, the requirements are broken up into 'must' and 'should'. The 'must' requirements will be prioritized, while the 'should' requirements are relegated to quality-of-life improvements and such.\n",
    "\n",
    "Please feel free to populate the useful links and contact information.\n",
    "\n",
    "### Useful links:\n",
    "- [CubeSat Design Specification, Rev. 13](https://static1.squarespace.com/static/5418c831e4b0fa4ecac1bacd/t/56e9b62337013b6c063a655a/1458157095454/cds_rev13_final2.pdf)\n",
    "- \n",
    "\n",
    "### Contact Information:\n",
    "- **Ian Zabel:** ian.b.zabel@gmail.com, ibz@pdx.edu\n",
    "- **Alex Farias:** afarias@pdx.edu\n",
    "- **Joe Shields:** shields6@pdx.edu\n",
    "- **Glenn LeBrasseur:** glenn.lebrasseur@gmail.com\n",
    "- \n",
    "---\n",
    "### Mechanical Design Constraints\n",
    "Regarding the mechanical constraints, specific values and dimensions are desired. If a requirement is something like 'must be easy to access 'tuna can' connections', please place those in misc. design requirements.\n",
    "\n",
    "- \n",
    "\n",
    "---\n",
    "### Electrical Design Constraints\n",
    "\n",
    "- \n",
    "\n",
    "---\n",
    "### Misc. Design Constraints\n",
    "\n",
    "- \n",
    "\n",
    "---\n",
    "## Dimension Notes\n",
    "These are notes regarding the physical dimensions of the airframe section and rings. All dimensions from [the design specifications.](https://static1.squarespace.com/static/5418c831e4b0fa4ecac1bacd/t/56e9b62337013b6c063a655a/1458157095454/cds_rev13_final2.pdf)\n",
    "```\n",
    "# Mounting Ring Geometry\n",
    "\n",
    "Di = 6     # Diameter, inner, female/male ring (in.)\n",
    "Dm = 0.12  # Diameter, mounting holes (in.)\n",
    "N  = 6     # Hole count (#)\n",
    "Lm = 0.285 # Mounting hole length (in.)\n",
    "\n",
    "# CubeSat Geometry (3U)\n",
    "\n",
    "Wr = 0.0085 # Minimum rail width (m)\n",
    "Fr = 0.001  # Minimum rail fillet (m)\n",
    "Wc = 0.1    # CubeSat width, X+ Y+ (m)\n",
    "Lc = 0.3408 # CubeSat length, Z+ (m)\n",
    "\n",
    "La = 0.0865 # Access port length, Z+ (m)\n",
    "Wa = 0.0725 # Access port length, Y+ (m)\n",
    "Lb = 0.027  # Access port seperation, Z+ (m)\n",
    "ov = 0.0065 # Access port overhang, Z- (m)\n",
    "\n",
    "# Tuna Can Geometry\n",
    "# Centered on Z- face\n",
    "\n",
    "Rt = 0.064 # Max tuna can diameter (m)\n",
    "Lt = 0.036 # Max tuna can length (m)\n",
    "```"
   ]
  },
  {
   "cell_type": "code",
   "execution_count": null,
   "metadata": {
    "collapsed": true
   },
   "outputs": [],
   "source": []
  }
 ],
 "metadata": {
  "kernelspec": {
   "display_name": "Python 2",
   "language": "python",
   "name": "python2"
  },
  "language_info": {
   "codemirror_mode": {
    "name": "ipython",
    "version": 2
   },
   "file_extension": ".py",
   "mimetype": "text/x-python",
   "name": "python",
   "nbconvert_exporter": "python",
   "pygments_lexer": "ipython2",
   "version": "2.7.11"
  }
 },
 "nbformat": 4,
 "nbformat_minor": 0
}
