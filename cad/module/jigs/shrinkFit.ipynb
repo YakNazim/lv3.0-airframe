{
 "cells": [
  {
   "cell_type": "markdown",
   "metadata": {},
   "source": [
    "## Inputs"
   ]
  },
  {
   "cell_type": "markdown",
   "metadata": {},
   "source": [
    "### subscript conventions\n",
    "subscript| meaning\n",
    "---|---\n",
    "S | shaft\n",
    "H | hub\n",
    "O | outer\n",
    "I | inner\n",
    "R | room temp\n",
    "h | high temp\n",
    "Max | maximum\n",
    "Min | minimum\n",
    "f | is a function\n",
    "fg | is a function generator"
   ]
  },
  {
   "cell_type": "code",
   "execution_count": 1,
   "metadata": {},
   "outputs": [
    {
     "data": {
      "text/html": [
       "'Wooden Christmas-Tree'"
      ],
      "text/latex": [
       "'Wooden Christmas-Tree'"
      ],
      "text/markdown": [
       "'Wooden Christmas-Tree'"
      ],
      "text/plain": [
       "[1] \"Wooden Christmas-Tree\""
      ]
     },
     "metadata": {},
     "output_type": "display_data"
    }
   ],
   "source": [
    "R.Version()$nickname\n",
    "# input parameters\n",
    "nu_H <- 0.33 # Poisson's number for the hub\n",
    "nu_S <- 0.35 # Poisson's number for the shaft\n",
    "E_H <- 10e6 # psi, modulus of elasticity of the hub\n",
    "E_S <- 29e6 # psi, modulus of elasticity of the shaft\n",
    "mu_s <- 0.47 # unitless, static coefficient of friction (hub and shaft)\n",
    "D_SOR <- 0.375 # inches, shaft outer diameter at room temp\n",
    "D_HOR <- 0.650 # inches, hub outer diameter at room temp\n",
    "D_SIR <- 0.120 # inches, shaft inner diameter at room temp\n",
    "L <- 1 # inches, interface length\n",
    "alpha_H <- 13.5e-6 # 1/degF, CTE fo the hub\n",
    "alpha_S <- 5.6e-7 # 1/degF, CTE fo the shaft\n",
    "T_R <- 70 # degF, expected working temp\n",
    "delta_h <- -0.003 # inches\n",
    "Gamma_Max_seed <- 100*12 # inch pounds, restraining torque"
   ]
  },
  {
   "cell_type": "markdown",
   "metadata": {},
   "source": [
    "## main routines:"
   ]
  },
  {
   "cell_type": "code",
   "execution_count": 2,
   "metadata": {},
   "outputs": [],
   "source": [
    "# a fxn that will evaluate the routine in the current env.\n",
    "mainCalc <- function() eval(mainQuote, parent.frame())\n",
    "mainQuote <- quote({ # main routine to execute\n",
    "    # the interference pressure as a function of approximate desired \n",
    "    # restraining torque\n",
    "    p_torque_f <- function(Gamma_Max) 2*Gamma_Max/(mu_s*L*pi*D_SOR^2)\n",
    "    p_des <- p_torque_f(Gamma_Max=Gamma_Max_seed)\n",
    "\n",
    "    # some possible inner hub diameters (room temp)\n",
    "    D_HIR_vec <- seq(from=D_SOR-0.01, to=D_SOR, length.out=1e3)\n",
    "\n",
    "    # get the interference pressure from the diameters\n",
    "    p_int_f <- function(D_SO, D_SI, D_HO, D_HI)\n",
    "        (D_SO - D_HI) / (\n",
    "            D_HI/E_H*((D_HO^2+D_HI^2)/(D_HO^2-D_HI^2)+nu_H)\n",
    "            +D_SO/E_S*((D_SO^2+D_SI^2)/(D_SO^2-D_SI^2)-nu_S)\n",
    "            )\n",
    "\n",
    "    # some possible interference pressures\n",
    "    # concordant with hub inner diameters\n",
    "    p_vec <- p_int_f(D_SOR, D_SIR, D_HOR, D_HIR_vec)\n",
    "    # plot(D_HIR_vec, p_vec, type='l')\n",
    "    # abline(h=p_des)\n",
    "\n",
    "    # lazy root finding\n",
    "    D_HIR <- D_HIR_vec[which.min(abs(p_des-p_vec))]\n",
    "    cat('calculated inner hub diameter at room temp: ', D_HIR, '\\n')\n",
    "\n",
    "    # round to nearest thou\n",
    "    D_HIR <- round(D_HIR*1e3)/1e3\n",
    "\n",
    "    # get temperature to have the desired assembly clearance\n",
    "    T_h_prescribed <- T_R+(delta_h-D_SOR+D_HIR)/(alpha_S*D_SOR-alpha_H*D_HIR)\n",
    "\n",
    "    # working interference (how hard will this be to machine?)\n",
    "    delta_R <- D_SOR-D_HIR\n",
    "\n",
    "    # actual restraining torque\n",
    "    Gamma_Max <- p_des*mu_s*L*pi*D_SOR^2/2\n",
    "})\n",
    "\n",
    "reportValues <- function()\n",
    "{\n",
    "    cat('assembly clearance: ', -delta_h, '\\n')\n",
    "    cat('working-temp interference: ', delta_R, '\\n')\n",
    "    cat('hub inner diameter (room temp): ', D_HIR, '\\n')\n",
    "    cat('shaft outer diameter (room temp): ', D_SOR, '\\n')\n",
    "    cat('working temp restraining torque: ', Gamma_Max/12, ' foot pounds\\n')\n",
    "    cat('required temp to achive assembly clearance: ', T_h_prescribed, '\\n')\n",
    "}"
   ]
  },
  {
   "cell_type": "markdown",
   "metadata": {},
   "source": [
    "## Cases:"
   ]
  },
  {
   "cell_type": "markdown",
   "metadata": {},
   "source": [
    "### aluminum hub, steel shaft"
   ]
  },
  {
   "cell_type": "code",
   "execution_count": 3,
   "metadata": {},
   "outputs": [],
   "source": [
    "alpha_H <- 13.5e-6 # 1/degF, CTE fo the hub\n",
    "alpha_S <- 5.6e-7 # 1/degF, CTE fo the shaft"
   ]
  },
  {
   "cell_type": "markdown",
   "metadata": {},
   "source": [
    "#### very tight tolerances\n",
    "This temp is achievable with the oven in EB 480, but requires machining tolerances under 1 thou. "
   ]
  },
  {
   "cell_type": "code",
   "execution_count": 4,
   "metadata": {},
   "outputs": [
    {
     "name": "stdout",
     "output_type": "stream",
     "text": [
      "calculated inner hub diameter at room temp:  0.3744294 \n",
      "assembly clearance:  0.001 \n",
      "working-temp interference:  0.001 \n",
      "hub inner diameter (room temp):  0.374 \n",
      "shaft outer diameter (room temp):  0.375 \n",
      "working temp restraining torque:  50  foot pounds\n",
      "required temp to achive assembly clearance:  483.3085 \n"
     ]
    }
   ],
   "source": [
    "delta_h <- -0.001\n",
    "Gamma_Max_seed <- 50*12\n",
    "mainCalc()\n",
    "reportValues()"
   ]
  },
  {
   "cell_type": "markdown",
   "metadata": {},
   "source": [
    "#### reasonable tolerances\n",
    "We could roll with machining tolerances of +/- 1 thou and use a torch to heat the parts.\n",
    "Although, it might be tricky to actually get uniformly heated soot-free parts."
   ]
  },
  {
   "cell_type": "code",
   "execution_count": 5,
   "metadata": {},
   "outputs": [
    {
     "name": "stdout",
     "output_type": "stream",
     "text": [
      "calculated inner hub diameter at room temp:  0.3727477 \n",
      "assembly clearance:  0.002 \n",
      "working-temp interference:  0.002 \n",
      "hub inner diameter (room temp):  0.373 \n",
      "shaft outer diameter (room temp):  0.375 \n",
      "working temp restraining torque:  200  foot pounds\n",
      "required temp to achive assembly clearance:  898.9296 \n"
     ]
    }
   ],
   "source": [
    "delta_h <- -0.002\n",
    "Gamma_Max_seed <- 200*12\n",
    "mainCalc()\n",
    "reportValues()"
   ]
  }
 ],
 "metadata": {
  "kernelspec": {
   "display_name": "R",
   "language": "R",
   "name": "ir"
  },
  "language_info": {
   "codemirror_mode": "r",
   "file_extension": ".r",
   "mimetype": "text/x-r-source",
   "name": "R",
   "pygments_lexer": "r",
   "version": "3.2.3"
  },
  "toc": {
   "nav_menu": {},
   "number_sections": false,
   "sideBar": true,
   "skip_h1_title": false,
   "toc_cell": false,
   "toc_position": {},
   "toc_section_display": "block",
   "toc_window_display": false
  },
  "varInspector": {
   "cols": {
    "lenName": 16,
    "lenType": 16,
    "lenVar": 40
   },
   "kernels_config": {
    "python": {
     "delete_cmd_postfix": "",
     "delete_cmd_prefix": "del ",
     "library": "var_list.py",
     "varRefreshCmd": "print(var_dic_list())"
    },
    "r": {
     "delete_cmd_postfix": ") ",
     "delete_cmd_prefix": "rm(",
     "library": "var_list.r",
     "varRefreshCmd": "cat(var_dic_list()) "
    }
   },
   "types_to_exclude": [
    "module",
    "function",
    "builtin_function_or_method",
    "instance",
    "_Feature"
   ],
   "window_display": false
  }
 },
 "nbformat": 4,
 "nbformat_minor": 2
}
