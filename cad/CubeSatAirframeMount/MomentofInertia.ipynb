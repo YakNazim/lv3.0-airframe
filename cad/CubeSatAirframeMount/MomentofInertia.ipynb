{
 "cells": [
  {
   "cell_type": "markdown",
   "metadata": {},
   "source": [
    "## Cradle Values and Analysis"
   ]
  },
  {
   "cell_type": "code",
   "execution_count": 23,
   "metadata": {
    "collapsed": false
   },
   "outputs": [
    {
     "name": "stdout",
     "output_type": "stream",
     "text": [
      "Moment of Inertia about x-axis\n",
      " Plate: 5.94 [in.^4]\n",
      "Tube:   0.485758 [in.^4]\n",
      " Total: 12.85 [in.^4]\n"
     ]
    }
   ],
   "source": [
    "import math as m\n",
    "\n",
    "# Geometry\n",
    "Tdo = 0.5             # Tube, Outer Diameter [in.]\n",
    "Tdi = 0.38            # Tube, Inner Diameter [in.]\n",
    "Pw  = 2               # Plate Width [in.]\n",
    "Pt  = 0.1             # Plate Thickness [in.]\n",
    "Pdi = 5.4             # Plate, Inner Y Dist. from X=0 [in.]\n",
    "Pdo = Pdi+Pt          # Plate, Outer Y Dist. from X=0 [in.]\n",
    "Tdc = 0.5*(4.58+0.25) # Tube, center to Y=0 Dist. [in.]\n",
    "\n",
    "# Material\n",
    "E = 400e3 # Elastic Modulus [psi]\n",
    "\n",
    "# Moment of Inertia (MoI)\n",
    "#  Tube:\n",
    "Tube_Ixo = (m.pi/4)*(Tdo/2)**4 # Outer Tube MoI (Relative to Tube Center)\n",
    "Tube_Ixi = (m.pi/4)*(Tdi/2)**4 # Inner Tube MoI (Relative to Tube Center)\n",
    "Tube_Ix  = Tube_Ixo-Tube_Ixi   # Tubing MoI [in.^4]\n",
    "#  Plate:\n",
    "Plate_Ix = Pw*Pt*(Pdi+0.5*Pt)**2 + (Pw*Pt**3)/12 # Plate MoI, x [in.^4]\n",
    "Plate_Iy = (Pt*Pw**3)/12                         # Plate MoI, y [in.^4]\n",
    "#  Parallel Axis Theorem:\n",
    "Tube_Ix_Corrected = Tube_Ix+(Tdc**2)*(m.pi*(0.5*Tdo)**2 - m.pi*(0.5*Tdi)**2) # Tube MoI [in.^4] \n",
    "Total_Ix = 2*Tube_Ix_Corrected + 2*Plate_Ix # Total MoI [in.^4]\n",
    "\n",
    "print('Moment of Inertia about x-axis')\n",
    "print(' Plate: {0:.2f} [in.^4]'.format(Plate_Ix))\n",
    "print('Tube:   {0:.6f} [in.^4]'.format(Tube_Ix_Corrected))\n",
    "print(' Total: {0:.2f} [in.^4]'.format(Total_Ix))\n",
    "\n",
    "# Bolt Shear\n",
    "\n",
    "# Geometry and Parameters\n",
    "Dbolt = 0.112   # Bolt Diameter [in.^4]\n",
    "N     = 12      # Total Quantity of Bolts\n",
    "E     = 28000e3 # Elastic Modulus, Stainless [psi]\n",
    "S     = 12500e3 # Shear Modulus, Stainless [psi]\n",
    "g     = 32.2    # ft/s^2\n",
    "a     = 15*g    # Acceleration Expected [ft/s^2]\n"
   ]
  },
  {
   "cell_type": "code",
   "execution_count": null,
   "metadata": {
    "collapsed": true
   },
   "outputs": [],
   "source": []
  }
 ],
 "metadata": {
  "kernelspec": {
   "display_name": "Python 3",
   "language": "python",
   "name": "python3"
  },
  "language_info": {
   "codemirror_mode": {
    "name": "ipython",
    "version": 3
   },
   "file_extension": ".py",
   "mimetype": "text/x-python",
   "name": "python",
   "nbconvert_exporter": "python",
   "pygments_lexer": "ipython3",
   "version": "3.6.0"
  }
 },
 "nbformat": 4,
 "nbformat_minor": 2
}
