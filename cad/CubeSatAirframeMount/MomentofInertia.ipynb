{
 "cells": [
  {
   "cell_type": "markdown",
   "metadata": {},
   "source": [
    "## Cradle Values and Analysis"
   ]
  },
  {
   "cell_type": "code",
   "execution_count": 30,
   "metadata": {
    "collapsed": false
   },
   "outputs": [
    {
     "name": "stdout",
     "output_type": "stream",
     "text": [
      "Moment of Inertia about x-axis\n",
      " Plate: 5.9407 [in.^4]\n",
      " Tube:  0.4858 [in.^4]\n",
      " Total: 12.853 [in.^4]\n",
      "\n",
      "Shear Stresses:\n",
      " G-Forces:        41.349 [N]\n",
      " Total Bolt Area: 0.0099 [in.^2]\n",
      " Per Bolt:        349.75 [psi]\n"
     ]
    }
   ],
   "source": [
    "import math as m\n",
    "import numpy as np\n",
    "\n",
    "# Cradle Analysis, Quick\n",
    "#  Geometry\n",
    "Tdo = 0.5 # Tube, Outer Diameter [in.]\n",
    "Tdi = 0.38 # Tube, Inner Diameter [in.]\n",
    "Pw = 2 # Plate Width [in.]\n",
    "Pt = 0.1 # Plate Thickness [in.]\n",
    "Pdi = 5.4 # Plate, Inner Y Dist. from X=0 [in.]\n",
    "Pdo = Pdi+Pt # Plate, Outer Y Dist. from X=0 [in.]\n",
    "Tdc = 0.5*(4.58+0.25) # Tube, center to Y=0 Dist. [in.]\n",
    "\n",
    "#  Material\n",
    "E = 400e3 # Elastic Modulus [psi]\n",
    "\n",
    "# Moment of Inertia (MoI)\n",
    "#  Tube:\n",
    "Tube_Ixo = (m.pi/4)*(Tdo/2)**4 # Outer Tube MoI (Relative to Tube Center)\n",
    "Tube_Ixi = (m.pi/4)*(Tdi/2)**4 # Inner Tube MoI (Relative to Tube Center)\n",
    "Tube_Ix = Tube_Ixo-Tube_Ixi # Tubing MoI [in.^4]\n",
    "#  Plate:\n",
    "Plate_Ix = Pw*Pt*(Pdi+0.5*Pt)**2 + (Pw*Pt**3)/12 # Plate MoI, x [in.^4]\n",
    "Plate_Iy = (Pt*Pw**3)/12 # Plate MoI, y [in.^4]\n",
    "#  Parallel Axis Theorem:\n",
    "Tube_Ix_Corrected = Tube_Ix+(Tdc**2)*(m.pi*(0.5*Tdo)**2 - m.pi*(0.5*Tdi)**2) # Tube MoI [in.^4] \n",
    "Total_Ix = 2*Tube_Ix_Corrected + 2*Plate_Ix # Total MoI [in.^4]\n",
    "\n",
    "print('Moment of Inertia about x-axis')\n",
    "print(' Plate: {0:.4f} [in.^4]'.format(Plate_Ix))\n",
    "print(' Tube:  {0:.4f} [in.^4]'.format(Tube_Ix_Corrected))\n",
    "print(' Total: {0:.3f} [in.^4]'.format(Total_Ix))\n",
    "\n",
    "#  SolidWorksI = np.array[125.99, 17.36, 123.99] # Solidworks MoI, [Ix, Iy, Iz]\n",
    "\n",
    "# Bolt Shear\n",
    "#  Material Properties\n",
    "E = 28000e3 # Elastic Modulus, Stainless [psi]\n",
    "S = 12500e3 # Shear Modulus, Stainless [psi]\n",
    "\n",
    "#  Geometry\n",
    "Rbolt = 0.112/2 # Bolt Radius [in.]\n",
    "BoltA = m.pi*Rbolt**2 # Bolt x-section Area [in.^2]\n",
    "N = 12 # Quantity of Bolts\n",
    "\n",
    "#  G-Forces\n",
    "g = 9.81 # Gravitational Acceleration [m/s^2]\n",
    "a = 15*g  # Acceleration Expected [m/s^2]\n",
    "mass = 1.25  # Mass [kg]\n",
    "FgNewton = mass*a # G-Force [N]\n",
    "Fg = FgNewton*0.2248 # G-Force [lbf]\n",
    "Shear = Fg/(N*BoltA) # Shear Stress, per bolt [psi]\n",
    "\n",
    "print('')\n",
    "print('Shear Stresses:')\n",
    "print(' G-Forces:        {0:.3f} [N]'.format(Fg))\n",
    "print(' Total Bolt Area: {0:.4f} [in.^2]'.format(BoltA))\n",
    "print(' Per Bolt:        {0:.2f} [psi]'.format(Shear))"
   ]
  },
  {
   "cell_type": "code",
   "execution_count": null,
   "metadata": {
    "collapsed": true
   },
   "outputs": [],
   "source": []
  }
 ],
 "metadata": {
  "kernelspec": {
   "display_name": "Python 2",
   "language": "python",
   "name": "python2"
  },
  "language_info": {
   "codemirror_mode": {
    "name": "ipython",
    "version": 2
   },
   "file_extension": ".py",
   "mimetype": "text/x-python",
   "name": "python",
   "nbconvert_exporter": "python",
   "pygments_lexer": "ipython2",
   "version": "2.7.13"
  }
 },
 "nbformat": 4,
 "nbformat_minor": 2
}
