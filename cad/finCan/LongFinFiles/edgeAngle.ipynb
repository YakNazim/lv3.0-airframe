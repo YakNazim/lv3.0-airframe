{
 "cells": [
  {
   "cell_type": "markdown",
   "metadata": {},
   "source": [
    "If we're making the fin frames with a router/2-axis mill, we need to know what angle of chamfer cutter to use.  \n",
    "This is just the trig to make sure that the angle of the leading edge is $\\leq$ the mach angle."
   ]
  },
  {
   "cell_type": "code",
   "execution_count": 1,
   "metadata": {
    "collapsed": true
   },
   "outputs": [],
   "source": [
    "import math as m\n",
    "import matplotlib.pyplot as plt\n",
    "%matplotlib inline\n",
    "import numpy as np"
   ]
  },
  {
   "cell_type": "markdown",
   "metadata": {},
   "source": [
    "The left triangle is the upper half of a streamwise cross section of the leading edge. ($\\mu$ is the mach angle)  \n",
    "The diagram in the middle shows the leading edge, as it would be shown in the planform.  \n",
    "The triangle on the right shows a cross section perpendicular to the leading edge of the fin.\n",
    "\n",
    "\n",
    "![](leadingEdgeTrig.jpg)"
   ]
  },
  {
   "cell_type": "markdown",
   "metadata": {},
   "source": [
    "define a function to go from the designed mach number to the required included angle of the cutter"
   ]
  },
  {
   "cell_type": "code",
   "execution_count": 2,
   "metadata": {
    "collapsed": true
   },
   "outputs": [],
   "source": [
    "def thetaI(M=2, thick=1/8):\n",
    "#    thick   = 1/8\n",
    "#    M       = 2\n",
    "    thetaMu = m.asin(1/M)\n",
    "    deltaY  = thick/(2*m.tan(thetaMu))\n",
    "    thetaS  = m.atan(9/6.42)\n",
    "    deltaE  = deltaY*m.sin(m.pi/2-thetaS)\n",
    "    thetaE  = m.atan(thick/(2*deltaE))\n",
    "    thetaI  = m.pi-2*thetaE\n",
    "    return thetaI"
   ]
  },
  {
   "cell_type": "code",
   "execution_count": 3,
   "metadata": {
    "collapsed": false
   },
   "outputs": [
    {
     "name": "stdout",
     "output_type": "stream",
     "text": [
      "90.33389729002562\n"
     ]
    }
   ],
   "source": [
    "print(thetaI()*360/2/m.pi)"
   ]
  },
  {
   "cell_type": "markdown",
   "metadata": {},
   "source": [
    "Ideally, the included angle of the cutter should be thetaI or less.  \n",
    "Any more and we get an oblique shock at the leading edge.  "
   ]
  },
  {
   "cell_type": "code",
   "execution_count": 4,
   "metadata": {
    "collapsed": false
   },
   "outputs": [
    {
     "data": {
      "image/png": "[encoded data removed]",
      "text/plain": [
       "<matplotlib.figure.Figure at 0x7fd3fb532240>"
      ]
     },
     "metadata": {},
     "output_type": "display_data"
    }
   ],
   "source": [
    "Ms= np.linspace(start=1.1, stop=3, num=1e3)\n",
    "thetas= [thetaI(M)*360/2/m.pi for M in Ms]\n",
    "plt.plot(Ms, thetas)\n",
    "plt.grid()"
   ]
  },
  {
   "cell_type": "markdown",
   "metadata": {},
   "source": [
    "The plot above shows the relationship between mach number and the minimum required included angle of the cutter. "
   ]
  },
  {
   "cell_type": "markdown",
   "metadata": {},
   "source": [
    "For a cutter with an included angle of 120 degrees, check that a 1/4\" diameter is okay:"
   ]
  },
  {
   "cell_type": "code",
   "execution_count": 5,
   "metadata": {
    "collapsed": false,
    "scrolled": true
   },
   "outputs": [
    {
     "name": "stdout",
     "output_type": "stream",
     "text": [
      "0.125\n",
      "119.99999999999999\n",
      "30.000000000000004\n",
      "0.10825317547305481\n",
      "0.21650635094610962\n"
     ]
    }
   ],
   "source": [
    "thick= 1/8\n",
    "thetaI= 120/360*m.pi*2\n",
    "thetaE= m.pi/2-thetaI/2\n",
    "# tan(thetaE)=thick/2/deltaE\n",
    "deltaE= thick/2/m.tan(thetaE)\n",
    "print(thick)\n",
    "print(thetaI*360/2/m.pi)\n",
    "print(thetaE*360/2/m.pi)\n",
    "print(deltaE)\n",
    "print(deltaE*2)"
   ]
  }
 ],
 "metadata": {
  "kernelspec": {
   "display_name": "Python 3",
   "language": "python",
   "name": "python3"
  },
  "language_info": {
   "codemirror_mode": {
    "name": "ipython",
    "version": 3
   },
   "file_extension": ".py",
   "mimetype": "text/x-python",
   "name": "python",
   "nbconvert_exporter": "python",
   "pygments_lexer": "ipython3",
   "version": "3.4.3"
  }
 },
 "nbformat": 4,
 "nbformat_minor": 0
}
